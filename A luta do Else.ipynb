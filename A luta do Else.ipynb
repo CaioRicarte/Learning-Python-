{
 "cells": [
  {
   "cell_type": "code",
   "execution_count": 1,
   "id": "5cb8b4df",
   "metadata": {},
   "outputs": [
    {
     "name": "stdout",
     "output_type": "stream",
     "text": [
      "Digite o valor da corrida2\n",
      "Pague a corrida\n"
     ]
    }
   ],
   "source": [
    "valor_passagem = 4.90\n",
    "\n",
    "valor_corrida = input ('Digite o valor da corrida')\n",
    "\n",
    "if float(valor_corrida) <= valor_passagem * 5:\n",
    "    print('Pague a corrida')"
   ]
  },
  {
   "cell_type": "code",
   "execution_count": 2,
   "id": "602b5de7",
   "metadata": {},
   "outputs": [
    {
     "name": "stdout",
     "output_type": "stream",
     "text": [
      "Digite o valor da corrida244\n",
      "Pegue um ônibus\n"
     ]
    }
   ],
   "source": [
    "valor_passagem = 4.90\n",
    "\n",
    "valor_corrida = input ('Digite o valor da corrida')\n",
    "\n",
    "if float(valor_corrida) <= valor_passagem * 5:\n",
    "    print('Pague a corrida')\n",
    "else:\n",
    "    print(\"Pegue um ônibus\")"
   ]
  },
  {
   "cell_type": "code",
   "execution_count": 3,
   "id": "0c77ac90",
   "metadata": {},
   "outputs": [
    {
     "ename": "IndentationError",
     "evalue": "expected an indented block after 'else' statement on line 10 (1732507443.py, line 11)",
     "output_type": "error",
     "traceback": [
      "\u001b[0;36m  Cell \u001b[0;32mIn [3], line 11\u001b[0;36m\u001b[0m\n\u001b[0;31m    print(\"Pegue um ônibus\")\u001b[0m\n\u001b[0m    ^\u001b[0m\n\u001b[0;31mIndentationError\u001b[0m\u001b[0;31m:\u001b[0m expected an indented block after 'else' statement on line 10\n"
     ]
    }
   ],
   "source": [
    "valor_passagem = 4.90\n",
    "\n",
    "valor_corrida = input ('Digite o valor da corrida')\n",
    "\n",
    "if float(valor_corrida) <= valor_passagem * 5:\n",
    "    print('Pague a corrida')\n",
    "else:\n",
    "    if float(valor_corrida) <= valor_passagem * 6:\n",
    "        print('Aguarde um momento e peça novamente')\n",
    "    else:    \n",
    "    print(\"Pegue um ônibus\")"
   ]
  },
  {
   "cell_type": "code",
   "execution_count": 4,
   "id": "86bc2eb9",
   "metadata": {},
   "outputs": [
    {
     "ename": "SyntaxError",
     "evalue": "incomplete input (2309626987.py, line 10)",
     "output_type": "error",
     "traceback": [
      "\u001b[0;36m  Cell \u001b[0;32mIn [4], line 10\u001b[0;36m\u001b[0m\n\u001b[0;31m    else:\u001b[0m\n\u001b[0m             ^\u001b[0m\n\u001b[0;31mSyntaxError\u001b[0m\u001b[0;31m:\u001b[0m incomplete input\n"
     ]
    }
   ],
   "source": [
    "valor_passagem = 4.90\n",
    "\n",
    "valor_corrida = input ('Digite o valor da corrida')\n",
    "\n",
    "if float(valor_corrida) <= valor_passagem * 5:\n",
    "    print('Pague a corrida')\n",
    "else:\n",
    "    if float(valor_corrida) <= valor_passagem * 6:\n",
    "        print('Aguarde um momento e peça novamente')\n",
    "    else:    "
   ]
  },
  {
   "cell_type": "code",
   "execution_count": 5,
   "id": "981d267e",
   "metadata": {},
   "outputs": [
    {
     "name": "stdout",
     "output_type": "stream",
     "text": [
      "Digite o valor da corrida26\n",
      "Aguarde um momento e peça novamente\n"
     ]
    }
   ],
   "source": [
    "valor_passagem = 4.90\n",
    "\n",
    "valor_corrida = input ('Digite o valor da corrida')\n",
    "\n",
    "if float(valor_corrida) <= valor_passagem * 5:\n",
    "    print('Pague a corrida')\n",
    "else:\n",
    "    if float(valor_corrida) <= valor_passagem * 6:\n",
    "        print('Aguarde um momento e peça novamente')"
   ]
  },
  {
   "cell_type": "code",
   "execution_count": 10,
   "id": "dee90f61",
   "metadata": {},
   "outputs": [
    {
     "name": "stdout",
     "output_type": "stream",
     "text": [
      "Digite o valor da corrida28\n",
      "Aguarde um momento e peça novamente\n"
     ]
    }
   ],
   "source": [
    "valor_passagem = 4.90\n",
    "\n",
    "valor_corrida = input ('Digite o valor da corrida')\n",
    "\n",
    "if float(valor_corrida) <= valor_passagem * 5:\n",
    "    print('Pague a corrida')\n",
    "else:\n",
    "    if float(valor_corrida) <= valor_passagem * 6:\n",
    "        print('Aguarde um momento e peça novamente')\n"
   ]
  },
  {
   "cell_type": "code",
   "execution_count": 11,
   "id": "cbe6a773",
   "metadata": {},
   "outputs": [
    {
     "name": "stdout",
     "output_type": "stream",
     "text": [
      "Digite o valor da corrida32\n"
     ]
    }
   ],
   "source": [
    "valor_passagem = 4.90\n",
    "\n",
    "valor_corrida = input ('Digite o valor da corrida')\n",
    "\n",
    "if float(valor_corrida) <= valor_passagem * 5:\n",
    "    print('Pague a corrida')\n",
    "else:\n",
    "    if float(valor_corrida) <= valor_passagem * 6:\n",
    "        print('Aguarde um momento e peça novamente')"
   ]
  },
  {
   "cell_type": "code",
   "execution_count": 12,
   "id": "99508b8f",
   "metadata": {},
   "outputs": [
    {
     "name": "stdout",
     "output_type": "stream",
     "text": [
      "Digite o valor da corrida29\n",
      "Aguarde um momento e peça novamente\n"
     ]
    }
   ],
   "source": [
    "valor_passagem = 4.90\n",
    "\n",
    "valor_corrida = input ('Digite o valor da corrida')\n",
    "\n",
    "if float(valor_corrida) <= valor_passagem * 5:\n",
    "    print('Pague a corrida')\n",
    "else:\n",
    "    if float(valor_corrida) <= valor_passagem * 6:\n",
    "        print('Aguarde um momento e peça novamente')"
   ]
  },
  {
   "cell_type": "code",
   "execution_count": 13,
   "id": "9533ef15",
   "metadata": {},
   "outputs": [
    {
     "ename": "SyntaxError",
     "evalue": "invalid syntax (2759757000.py, line 10)",
     "output_type": "error",
     "traceback": [
      "\u001b[0;36m  Cell \u001b[0;32mIn [13], line 10\u001b[0;36m\u001b[0m\n\u001b[0;31m    else:\u001b[0m\n\u001b[0m    ^\u001b[0m\n\u001b[0;31mSyntaxError\u001b[0m\u001b[0;31m:\u001b[0m invalid syntax\n"
     ]
    }
   ],
   "source": [
    "valor_passagem = 4.90\n",
    "\n",
    "valor_corrida = input ('Digite o valor da corrida')\n",
    "\n",
    "if float(valor_corrida) <= valor_passagem * 5:\n",
    "    print('Pague a corrida')\n",
    "else:\n",
    "    if float(valor_corrida) <= valor_passagem * 6:\n",
    "        print('Aguarde um momento e peça novamente')\n",
    "        else:\n",
    "            print(\"ME ajuda\")"
   ]
  },
  {
   "cell_type": "code",
   "execution_count": 14,
   "id": "bac6c4dd",
   "metadata": {},
   "outputs": [
    {
     "name": "stdout",
     "output_type": "stream",
     "text": [
      "Digite o valor da corrida32\n",
      "me ajuda\n"
     ]
    }
   ],
   "source": [
    "valor_passagem = 4.90\n",
    "\n",
    "valor_corrida = input ('Digite o valor da corrida')\n",
    "\n",
    "if float(valor_corrida) <= valor_passagem * 5:\n",
    "    print('Pague a corrida')\n",
    "else:\n",
    "    if float(valor_corrida) <= valor_passagem * 6:\n",
    "        print('Aguarde um momento e peça novamente')\n",
    "    else:\n",
    "        print('me ajuda')"
   ]
  },
  {
   "cell_type": "code",
   "execution_count": 15,
   "id": "1fea30fc",
   "metadata": {},
   "outputs": [
    {
     "name": "stdout",
     "output_type": "stream",
     "text": [
      "Digite o valor da corrida24\n",
      "Pague a corrida\n"
     ]
    }
   ],
   "source": [
    "valor_passagem = 4.90\n",
    "\n",
    "valor_corrida = input ('Digite o valor da corrida')\n",
    "\n",
    "if float(valor_corrida) <= valor_passagem * 5:\n",
    "    print('Pague a corrida')\n",
    "else:\n",
    "    if float(valor_corrida) <= valor_passagem * 6:\n",
    "        print('Aguarde um momento e peça novamente')\n",
    "    else:\n",
    "        print('Pegue um ônibus')"
   ]
  },
  {
   "cell_type": "code",
   "execution_count": 16,
   "id": "c1b01416",
   "metadata": {},
   "outputs": [
    {
     "name": "stdout",
     "output_type": "stream",
     "text": [
      "Digite o valor da corrida25\n",
      "Aguarde um momento e peça novamente\n"
     ]
    }
   ],
   "source": [
    "valor_passagem = 4.90\n",
    "\n",
    "valor_corrida = input ('Digite o valor da corrida')\n",
    "\n",
    "if float(valor_corrida) <= valor_passagem * 5:\n",
    "    print('Pague a corrida')\n",
    "else:\n",
    "    if float(valor_corrida) <= valor_passagem * 6:\n",
    "        print('Aguarde um momento e peça novamente')\n",
    "    else:\n",
    "        print('Pegue um ônibus')"
   ]
  },
  {
   "cell_type": "code",
   "execution_count": 17,
   "id": "3753a281",
   "metadata": {},
   "outputs": [
    {
     "name": "stdout",
     "output_type": "stream",
     "text": [
      "Digite o valor da corrida33\n",
      "Pegue um ônibus\n"
     ]
    }
   ],
   "source": [
    "valor_passagem = 4.90\n",
    "\n",
    "valor_corrida = input ('Digite o valor da corrida')\n",
    "\n",
    "if float(valor_corrida) <= valor_passagem * 5:\n",
    "    print('Pague a corrida')\n",
    "else:\n",
    "    if float(valor_corrida) <= valor_passagem * 6:\n",
    "        print('Aguarde um momento e peça novamente')\n",
    "    else:\n",
    "        print('Pegue um ônibus')"
   ]
  },
  {
   "cell_type": "code",
   "execution_count": null,
   "id": "47bfba49",
   "metadata": {},
   "outputs": [],
   "source": []
  }
 ],
 "metadata": {
  "kernelspec": {
   "display_name": "Python 3 (ipykernel)",
   "language": "python",
   "name": "python3"
  },
  "language_info": {
   "codemirror_mode": {
    "name": "ipython",
    "version": 3
   },
   "file_extension": ".py",
   "mimetype": "text/x-python",
   "name": "python",
   "nbconvert_exporter": "python",
   "pygments_lexer": "ipython3",
   "version": "3.10.7"
  }
 },
 "nbformat": 4,
 "nbformat_minor": 5
}
