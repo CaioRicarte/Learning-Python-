{
 "cells": [
  {
   "cell_type": "code",
   "execution_count": 1,
   "id": "ad88aceb",
   "metadata": {},
   "outputs": [],
   "source": [
    "def hello ():\n",
    "    print(\"hello, world!\")\n"
   ]
  },
  {
   "cell_type": "code",
   "execution_count": 2,
   "id": "aefe3c67",
   "metadata": {},
   "outputs": [
    {
     "name": "stdout",
     "output_type": "stream",
     "text": [
      "hello, world!\n"
     ]
    }
   ],
   "source": [
    "hello()"
   ]
  },
  {
   "cell_type": "code",
   "execution_count": 3,
   "id": "ecf91122",
   "metadata": {},
   "outputs": [],
   "source": [
    "def calcular_media (valor1,valor2,valor3):\n",
    "    soma = valor1 + valor2 + valor3\n",
    "    media = soma / 3\n",
    "    return media"
   ]
  },
  {
   "cell_type": "code",
   "execution_count": 4,
   "id": "96d1d105",
   "metadata": {},
   "outputs": [
    {
     "name": "stdout",
     "output_type": "stream",
     "text": [
      "10.0\n"
     ]
    }
   ],
   "source": [
    "resultado = calcular_media(10,10,10)\n",
    "print(resultado)\n"
   ]
  },
  {
   "cell_type": "code",
   "execution_count": 5,
   "id": "689eb02d",
   "metadata": {},
   "outputs": [],
   "source": [
    "def potencia (expoente):\n",
    "    potenciacao = expoente * expoente\n",
    "    return potenciacao"
   ]
  },
  {
   "cell_type": "code",
   "execution_count": 7,
   "id": "c39394b5",
   "metadata": {},
   "outputs": [
    {
     "name": "stdout",
     "output_type": "stream",
     "text": [
      "784\n"
     ]
    }
   ],
   "source": [
    "resultado = pontencia(28)\n",
    "print(resultado)"
   ]
  },
  {
   "cell_type": "code",
   "execution_count": null,
   "id": "f09269c0",
   "metadata": {},
   "outputs": [],
   "source": []
  }
 ],
 "metadata": {
  "kernelspec": {
   "display_name": "Python 3 (ipykernel)",
   "language": "python",
   "name": "python3"
  },
  "language_info": {
   "codemirror_mode": {
    "name": "ipython",
    "version": 3
   },
   "file_extension": ".py",
   "mimetype": "text/x-python",
   "name": "python",
   "nbconvert_exporter": "python",
   "pygments_lexer": "ipython3",
   "version": "3.10.7"
  }
 },
 "nbformat": 4,
 "nbformat_minor": 5
}
