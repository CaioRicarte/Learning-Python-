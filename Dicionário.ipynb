{
 "cells": [
  {
   "cell_type": "code",
   "execution_count": 1,
   "id": "15a73b83",
   "metadata": {},
   "outputs": [],
   "source": [
    "dados_cidade = {\n",
    "    'nome': 'São Paulo',\n",
    "    'estado': 'São Paulo',\n",
    "    'area_km2': 1520,\n",
    "    'populacao_milhoes': 12.18\n",
    "}"
   ]
  },
  {
   "cell_type": "code",
   "execution_count": 2,
   "id": "d14f833b",
   "metadata": {},
   "outputs": [
    {
     "name": "stdout",
     "output_type": "stream",
     "text": [
      "{'nome': 'São Paulo', 'estado': 'São Paulo', 'area_km2': 1520, 'populacao_milhoes': 12.18} <class 'dict'>\n"
     ]
    }
   ],
   "source": [
    "print(dados_cidade,type(dados_cidade))"
   ]
  },
  {
   "cell_type": "code",
   "execution_count": 5,
   "id": "5151d729",
   "metadata": {},
   "outputs": [
    {
     "name": "stdout",
     "output_type": "stream",
     "text": [
      "{'nome': 'São Paulo', 'estado': 'São Paulo', 'area_km2': 1520, 'populacao_milhoes': 12.18, 'país': 'Brasil'}\n"
     ]
    }
   ],
   "source": [
    "dados_cidade ['país'] = 'Brasil'\n",
    "print(dados_cidade)"
   ]
  },
  {
   "cell_type": "code",
   "execution_count": 6,
   "id": "8e2c2a45",
   "metadata": {},
   "outputs": [
    {
     "name": "stdout",
     "output_type": "stream",
     "text": [
      "{'nome': 'São Paulo', 'estado': 'São Paulo', 'area_km2': 1500, 'populacao_milhoes': 12.18, 'país': 'Brasil'}\n"
     ]
    }
   ],
   "source": [
    "dados_cidade ['area_km2'] = 1500\n",
    "print(dados_cidade)"
   ]
  },
  {
   "cell_type": "code",
   "execution_count": 7,
   "id": "d62f08e5",
   "metadata": {},
   "outputs": [
    {
     "name": "stdout",
     "output_type": "stream",
     "text": [
      "{'nome': 'santos', 'estado': 'São Paulo', 'area_km2': 1500, 'populacao_milhoes': 12.18, 'país': 'Brasil'}\n"
     ]
    }
   ],
   "source": [
    "dados_cidade2 = dados_cidade\n",
    "dados_cidade2['nome'] = 'santos'\n",
    "print(dados_cidade2)"
   ]
  },
  {
   "cell_type": "code",
   "execution_count": 8,
   "id": "59dfd389",
   "metadata": {},
   "outputs": [
    {
     "name": "stdout",
     "output_type": "stream",
     "text": [
      "{'nome': 'santos', 'estado': 'São Paulo', 'area_km2': 1500, 'populacao_milhoes': 12.18, 'país': 'Brasil'}\n"
     ]
    }
   ],
   "source": [
    "print(dados_cidade)"
   ]
  },
  {
   "cell_type": "code",
   "execution_count": 9,
   "id": "f114e20f",
   "metadata": {},
   "outputs": [
    {
     "name": "stdout",
     "output_type": "stream",
     "text": [
      "{'nome': 'Guarulhos', 'estado': 'São Paulo', 'area_km2': 1500, 'populacao_milhoes': 12.18, 'país': 'Brasil'} {'nome': 'santos', 'estado': 'São Paulo', 'area_km2': 1500, 'populacao_milhoes': 12.18, 'país': 'Brasil'}\n"
     ]
    }
   ],
   "source": [
    "#Metodo copy\n",
    "dados_cidade3 = dados_cidade.copy()\n",
    "dados_cidade3['nome'] = 'Guarulhos'\n",
    "print(dados_cidade3,dados_cidade)\n"
   ]
  },
  {
   "cell_type": "code",
   "execution_count": 12,
   "id": "acd6a7c9",
   "metadata": {},
   "outputs": [
    {
     "name": "stdout",
     "output_type": "stream",
     "text": [
      "{'nome': 'santos', 'estado': 'São Paulo', 'area_km2': 1500, 'populacao_milhoes': 15, 'país': 'Brasil', 'fundacao_cidade': '25/01/1504'}\n"
     ]
    }
   ],
   "source": [
    "novos_dados = {\n",
    "    'populacao_milhoes':  15,\n",
    "    'fundacao_cidade':  '25/01/1504',\n",
    "}\n",
    "dados_cidade.update(novos_dados)\n",
    "\n",
    "print(dados_cidade)"
   ]
  },
  {
   "cell_type": "code",
   "execution_count": 13,
   "id": "f0c1099a",
   "metadata": {},
   "outputs": [
    {
     "ename": "KeyError",
     "evalue": "'prefeito'",
     "output_type": "error",
     "traceback": [
      "\u001b[0;31m---------------------------------------------------------------------------\u001b[0m",
      "\u001b[0;31mKeyError\u001b[0m                                  Traceback (most recent call last)",
      "Cell \u001b[0;32mIn [13], line 1\u001b[0m\n\u001b[0;32m----> 1\u001b[0m \u001b[43mdados_cidade\u001b[49m\u001b[43m[\u001b[49m\u001b[38;5;124;43m'\u001b[39;49m\u001b[38;5;124;43mprefeito\u001b[39;49m\u001b[38;5;124;43m'\u001b[39;49m\u001b[43m]\u001b[49m\n",
      "\u001b[0;31mKeyError\u001b[0m: 'prefeito'"
     ]
    }
   ],
   "source": [
    "dados_cidade['prefeito']"
   ]
  },
  {
   "cell_type": "code",
   "execution_count": 14,
   "id": "7823970d",
   "metadata": {},
   "outputs": [
    {
     "name": "stdout",
     "output_type": "stream",
     "text": [
      "None\n"
     ]
    }
   ],
   "source": [
    "#Metodo Get\n",
    "print(dados_cidade.get('prefeito'))"
   ]
  },
  {
   "cell_type": "code",
   "execution_count": 15,
   "id": "7d1fd13c",
   "metadata": {},
   "outputs": [
    {
     "name": "stdout",
     "output_type": "stream",
     "text": [
      "dict_keys(['nome', 'estado', 'area_km2', 'populacao_milhoes', 'país', 'fundacao_cidade'])\n",
      "-------\n",
      "dict_values(['santos', 'São Paulo', 1500, 15, 'Brasil', '25/01/1504'])\n",
      "-------\n",
      "dict_items([('nome', 'santos'), ('estado', 'São Paulo'), ('area_km2', 1500), ('populacao_milhoes', 15), ('país', 'Brasil'), ('fundacao_cidade', '25/01/1504')])\n"
     ]
    }
   ],
   "source": [
    "print(dados_cidade.keys())  # retorna uma lista de chaves de um dicionario\n",
    "print('-------')\n",
    "print(dados_cidade.values()) # retorna uma lista de valores de um dicionario\n",
    "print('-------')\n",
    "print(dados_cidade.items()) # retorna uma lista de tuplas (chave, valor) de um dicionario"
   ]
  },
  {
   "cell_type": "code",
   "execution_count": 16,
   "id": "d50ff772",
   "metadata": {},
   "outputs": [
    {
     "name": "stdout",
     "output_type": "stream",
     "text": [
      "Ramones\n",
      "Não foram encontradas bandas para o estilo.\n"
     ]
    }
   ],
   "source": [
    "#Acessar item do dicionário\n",
    "bandas_dicionario = {\"Rock Alternativo\":\"Red Hot Chili Peppers\", \"Indie Rock\": \"The Strokes\", \"Punk\":\"Ramones\"}\n",
    "#Método Get com mensagem para elemento não encontrado\n",
    "bandas_punk = bandas_dicionario.get(\"Punk\", \"Não foram encontradas bandas para o estilo.\")\n",
    "print(bandas_punk) #Ramones\n",
    "\n",
    "#Método Get com mensagem para elemento não encontrado\n",
    "bandas_heavy_metal = bandas_dicionario.get(\"Heavy Metal\", \"Não foram encontradas bandas para o estilo.\")\n",
    "print(bandas_heavy_metal) #Não foram encontradas bandas para o estilo."
   ]
  },
  {
   "cell_type": "code",
   "execution_count": 17,
   "id": "acbabeb9",
   "metadata": {},
   "outputs": [
    {
     "name": "stdout",
     "output_type": "stream",
     "text": [
      "Ramones\n"
     ]
    }
   ],
   "source": [
    "#Acessar item do dicionário\n",
    "bandas_dicionario = {\"Rock Alternativo\":\"Red Hot Chili Peppers\", \"Indie Rock\": \"The Strokes\", \"Punk\":\"Ramones\"}\n",
    "#Método Get com mensagem para elemento não encontrado\n",
    "bandas_punk = bandas_dicionario.get(\"Punk\", \"Não foram encontradas bandas para o estilo.\")\n",
    "print(bandas_punk) #Ramones"
   ]
  },
  {
   "cell_type": "code",
   "execution_count": 18,
   "id": "498dd72c",
   "metadata": {},
   "outputs": [
    {
     "name": "stdout",
     "output_type": "stream",
     "text": [
      "Não foram encontradas bandas para o estilo.\n"
     ]
    }
   ],
   "source": [
    "bandas_heavy_metal = bandas_dicionario.get(\"Heavy Metal\", \"Não foram encontradas bandas para o estilo.\")\n",
    "print(bandas_heavy_metal) #Não foram encontradas bandas para o estilo."
   ]
  },
  {
   "cell_type": "code",
   "execution_count": null,
   "id": "98821628",
   "metadata": {},
   "outputs": [],
   "source": []
  }
 ],
 "metadata": {
  "kernelspec": {
   "display_name": "Python 3 (ipykernel)",
   "language": "python",
   "name": "python3"
  },
  "language_info": {
   "codemirror_mode": {
    "name": "ipython",
    "version": 3
   },
   "file_extension": ".py",
   "mimetype": "text/x-python",
   "name": "python",
   "nbconvert_exporter": "python",
   "pygments_lexer": "ipython3",
   "version": "3.10.7"
  }
 },
 "nbformat": 4,
 "nbformat_minor": 5
}
