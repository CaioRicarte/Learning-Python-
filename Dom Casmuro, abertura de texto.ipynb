{
 "cells": [
  {
   "cell_type": "code",
   "execution_count": 7,
   "id": "1ed4ad65",
   "metadata": {},
   "outputs": [
    {
     "name": "stdout",
     "output_type": "stream",
     "text": [
      "Dom Casmurro\n",
      "de Machado de Assis\n",
      "CAPÍTULO I\n",
      "DO TÍTULO\n",
      "Uma noite destas, vindo da cidade para o Engenho Novo, encontrei num trem\n",
      "da Central um rapaz aqui do bairro, que eu conheço de vista e de chapéu.\n",
      "Cumprimentou-me, sentou-se ao pé de mim, falou da lua e dos ministros, e acabou\n",
      "recitando-me versos. A viagem era curta, e os versos pode ser que não fossem\n",
      "inteiramente maus. Sucedeu, porém, que, como eu estava cansado, fechei os olhos\n",
      "três ou quatro vezes; tanto bastou para que ele interrompesse a leitura e metesse os\n",
      "versos no bolso.\n",
      "— Continue, disse eu acordando.\n",
      "— Já acabei, murmurou ele.\n",
      "— São muito bonitos.\n",
      "Vi-lhe fazer um gesto para tirá-los outra vez do bolso, mas não passou do\n",
      "gesto; estava amuado. No dia seguinte entrou a dizer de mim nomes feios, e acabou\n",
      "alcunhando-me Dom Casmurro. Os vizinhos, que não gostam dos meus hábitos\n",
      "reclusos e calados, deram curso à alcunha, que afinal pegou. Nem por isso me\n",
      "zanguei. Contei a anedota aos amigos da cidade, e eles, por graça, chamam-me\n",
      "assim, alguns em bilhetes: \"Dom Casmurro, domingo vou jantar com você.\"—\"Vou\n",
      "para Petrópolis, Dom Casmurro; a casa é a mesma da Renania; vê se deixas essa\n",
      "caverna do Engenho Novo, e vai lá passar uns quinze dias comigo.\"—\"Meu caro\n",
      "Dom Casmurro, não cuide que o dispenso do teatro amanhã; venha e dormirá aqui\n",
      "na cidade; dou-lhe camarote, dou-lhe chá, dou-lhe cama; só não lhe dou moça.\"\n",
      "Não consultes dicionários. Casmurro não está aqui no sentido que eles lhe\n",
      "dão, mas no que lhe pôs o vulgo de homem calado e metido consigo. Dom veio por\n",
      "ironia, para atribuir-me fumos de fidalgo. Tudo por estar cochilando! Também não\n",
      "achei melhor título para a minha narração — se não tiver outro daqui até ao fim do\n",
      "livro, vai este mesmo. O meu poeta do trem ficará sabendo que não lhe guardo\n",
      "rancor. E com pequeno esforço, sendo o título seu, poderá cuidar que a obra é sua.\n",
      "Há livros que apenas terão isso dos seus autores; alguns nem tanto.\n",
      "\n"
     ]
    }
   ],
   "source": [
    "arquivo = open('dom_casmurro2.txt', 'r')\n",
    "texto = arquivo.read()\n",
    "print(texto)\n",
    "arquivo.close()"
   ]
  },
  {
   "cell_type": "code",
   "execution_count": 9,
   "id": "36fbef4c",
   "metadata": {},
   "outputs": [
    {
     "name": "stdout",
     "output_type": "stream",
     "text": [
      "Dom Casmurro\n",
      "de Machado de Assis\n",
      "CAPÍTULO I\n",
      "DO TÍTULO\n",
      "Uma noite destas, vindo da cidade para o Engenho Novo, encontrei num trem\n",
      "da Central um rapaz aqui do bairro, que eu conheço de vista e de chapéu.\n",
      "Cumprimentou-me, sentou-se ao pé de mim, falou da lua e dos ministros, e acabou\n",
      "recitando-me versos. A viagem era curta, e os versos pode ser que não fossem\n",
      "inteiramente maus. Sucedeu, porém, que, como eu estava cansado, fechei os olhos\n",
      "três ou quatro vezes; tanto bastou para que ele interrompesse a leitura e metesse os\n",
      "versos no bolso.\n",
      "— Continue, disse eu acordando.\n",
      "— Já acabei, murmurou ele.\n",
      "— São muito bonitos.\n",
      "Vi-lhe fazer um gesto para tirá-los outra vez do bolso, mas não passou do\n",
      "gesto; estava amuado. No dia seguinte entrou a dizer de mim nomes feios, e acabou\n",
      "alcunhando-me Dom Casmurro. Os vizinhos, que não gostam dos meus hábitos\n",
      "reclusos e calados, deram curso à alcunha, que afinal pegou. Nem por isso me\n",
      "zanguei. Contei a anedota aos amigos da cidade, e eles, por graça, chamam-me\n",
      "assim, alguns em bilhetes: \"Dom Casmurro, domingo vou jantar com você.\"—\"Vou\n",
      "para Petrópolis, Dom Casmurro; a casa é a mesma da Renania; vê se deixas essa\n",
      "caverna do Engenho Novo, e vai lá passar uns quinze dias comigo.\"—\"Meu caro\n",
      "Dom Casmurro, não cuide que o dispenso do teatro amanhã; venha e dormirá aqui\n",
      "na cidade; dou-lhe camarote, dou-lhe chá, dou-lhe cama; só não lhe dou moça.\"\n",
      "Não consultes dicionários. Casmurro não está aqui no sentido que eles lhe\n",
      "dão, mas no que lhe pôs o vulgo de homem calado e metido consigo. Dom veio por\n",
      "ironia, para atribuir-me fumos de fidalgo. Tudo por estar cochilando! Também não\n",
      "achei melhor título para a minha narração — se não tiver outro daqui até ao fim do\n",
      "livro, vai este mesmo. O meu poeta do trem ficará sabendo que não lhe guardo\n",
      "rancor. E com pequeno esforço, sendo o título seu, poderá cuidar que a obra é sua.\n",
      "Há livros que apenas terão isso dos seus autores; alguns nem tanto.\n"
     ]
    }
   ],
   "source": [
    "arquivo = open('dom_casmurro2.txt', 'r')\n",
    "linha = arquivo.readline()\n",
    "while linha != '':\n",
    "    print(linha, end='' )\n",
    "    linha = arquivo.readline()\n",
    "arquivo.close()"
   ]
  },
  {
   "cell_type": "code",
   "execution_count": 10,
   "id": "318cd656",
   "metadata": {},
   "outputs": [
    {
     "name": "stdout",
     "output_type": "stream",
     "text": [
      "<class 'str'>\n"
     ]
    }
   ],
   "source": [
    "print(type(linha))"
   ]
  },
  {
   "cell_type": "code",
   "execution_count": 11,
   "id": "851f5826",
   "metadata": {},
   "outputs": [
    {
     "name": "stdout",
     "output_type": "stream",
     "text": [
      "<class '_io.TextIOWrapper'>\n"
     ]
    }
   ],
   "source": [
    "print(type(arquivo))"
   ]
  },
  {
   "cell_type": "code",
   "execution_count": 12,
   "id": "3af5f50d",
   "metadata": {},
   "outputs": [
    {
     "name": "stdout",
     "output_type": "stream",
     "text": [
      "Dom Casmurro\n",
      "de Machado de Assis\n",
      "CAPÍTULO I\n",
      "DO TÍTULO\n",
      "Uma noite destas, vindo da cidade para o Engenho Novo, encontrei num trem\n",
      "da Central um rapaz aqui do bairro, que eu conheço de vista e de chapéu.\n",
      "Cumprimentou-me, sentou-se ao pé de mim, falou da lua e dos ministros, e acabou\n",
      "recitando-me versos. A viagem era curta, e os versos pode ser que não fossem\n",
      "inteiramente maus. Sucedeu, porém, que, como eu estava cansado, fechei os olhos\n",
      "três ou quatro vezes; tanto bastou para que ele interrompesse a leitura e metesse os\n",
      "versos no bolso.\n",
      "— Continue, disse eu acordando.\n",
      "— Já acabei, murmurou ele.\n",
      "— São muito bonitos.\n",
      "Vi-lhe fazer um gesto para tirá-los outra vez do bolso, mas não passou do\n",
      "gesto; estava amuado. No dia seguinte entrou a dizer de mim nomes feios, e acabou\n",
      "alcunhando-me Dom Casmurro. Os vizinhos, que não gostam dos meus hábitos\n",
      "reclusos e calados, deram curso à alcunha, que afinal pegou. Nem por isso me\n",
      "zanguei. Contei a anedota aos amigos da cidade, e eles, por graça, chamam-me\n",
      "assim, alguns em bilhetes: \"Dom Casmurro, domingo vou jantar com você.\"—\"Vou\n",
      "para Petrópolis, Dom Casmurro; a casa é a mesma da Renania; vê se deixas essa\n",
      "caverna do Engenho Novo, e vai lá passar uns quinze dias comigo.\"—\"Meu caro\n",
      "Dom Casmurro, não cuide que o dispenso do teatro amanhã; venha e dormirá aqui\n",
      "na cidade; dou-lhe camarote, dou-lhe chá, dou-lhe cama; só não lhe dou moça.\"\n",
      "Não consultes dicionários. Casmurro não está aqui no sentido que eles lhe\n",
      "dão, mas no que lhe pôs o vulgo de homem calado e metido consigo. Dom veio por\n",
      "ironia, para atribuir-me fumos de fidalgo. Tudo por estar cochilando! Também não\n",
      "achei melhor título para a minha narração — se não tiver outro daqui até ao fim do\n",
      "livro, vai este mesmo. O meu poeta do trem ficará sabendo que não lhe guardo\n",
      "rancor. E com pequeno esforço, sendo o título seu, poderá cuidar que a obra é sua.\n",
      "Há livros que apenas terão isso dos seus autores; alguns nem tanto.\n"
     ]
    }
   ],
   "source": [
    "arquivo = open('dom_casmurro2.txt', 'r')\n",
    "for linha in arquivo:\n",
    "    print(linha,end='')\n",
    "arquivo.close()"
   ]
  },
  {
   "cell_type": "code",
   "execution_count": 14,
   "id": "e63b738f",
   "metadata": {},
   "outputs": [
    {
     "name": "stdout",
     "output_type": "stream",
     "text": [
      "Dom Casmurro\n",
      "de Machado de Assis\n",
      "CAPÍTULO I\n",
      "DO TÍTULO\n",
      "Uma noite destas, vindo da cidade para o Engenho Novo, encontrei num trem\n",
      "da Central um rapaz aqui do bairro, que eu conheço de vista e de chapéu.\n",
      "Cumprimentou-me, sentou-se ao pé de mim, falou da lua e dos ministros, e acabou\n",
      "recitando-me versos. A viagem era curta, e os versos pode ser que não fossem\n",
      "inteiramente maus. Sucedeu, porém, que, como eu estava cansado, fechei os olhos\n",
      "três ou quatro vezes; tanto bastou para que ele interrompesse a leitura e metesse os\n",
      "versos no bolso.\n",
      "— Continue, disse eu acordando.\n",
      "— Já acabei, murmurou ele.\n",
      "— São muito bonitos.\n",
      "Vi-lhe fazer um gesto para tirá-los outra vez do bolso, mas não passou do\n",
      "gesto; estava amuado. No dia seguinte entrou a dizer de mim nomes feios, e acabou\n",
      "alcunhando-me Dom Casmurro. Os vizinhos, que não gostam dos meus hábitos\n",
      "reclusos e calados, deram curso à alcunha, que afinal pegou. Nem por isso me\n",
      "zanguei. Contei a anedota aos amigos da cidade, e eles, por graça, chamam-me\n",
      "assim, alguns em bilhetes: \"Dom Casmurro, domingo vou jantar com você.\"—\"Vou\n",
      "para Petrópolis, Dom Casmurro; a casa é a mesma da Renania; vê se deixas essa\n",
      "caverna do Engenho Novo, e vai lá passar uns quinze dias comigo.\"—\"Meu caro\n",
      "Dom Casmurro, não cuide que o dispenso do teatro amanhã; venha e dormirá aqui\n",
      "na cidade; dou-lhe camarote, dou-lhe chá, dou-lhe cama; só não lhe dou moça.\"\n",
      "Não consultes dicionários. Casmurro não está aqui no sentido que eles lhe\n",
      "dão, mas no que lhe pôs o vulgo de homem calado e metido consigo. Dom veio por\n",
      "ironia, para atribuir-me fumos de fidalgo. Tudo por estar cochilando! Também não\n",
      "achei melhor título para a minha narração — se não tiver outro daqui até ao fim do\n",
      "livro, vai este mesmo. O meu poeta do trem ficará sabendo que não lhe guardo\n",
      "rancor. E com pequeno esforço, sendo o título seu, poderá cuidar que a obra é sua.\n",
      "Há livros que apenas terão isso dos seus autores; alguns nem tanto.\n",
      "\n"
     ]
    }
   ],
   "source": [
    "with open ('dom_casmurro2.txt','r') as arquivo:\n",
    "    texto = arquivo.read()\n",
    "    print(texto)\n",
    "    #não precisa fechar\n"
   ]
  },
  {
   "cell_type": "code",
   "execution_count": 15,
   "id": "74ddd35d",
   "metadata": {},
   "outputs": [],
   "source": [
    "with open ('DeadTest.txt','w') as arquivo:\n",
    "    arquivo.write('Estou escrevendo, iuhuuuu\\n')\n",
    "    arquivo.write('Estou escrevendo novamente, iuhuuuu\\n')\n",
    "    arquivo.write('Há esperança, iuhuuuu\\n')"
   ]
  },
  {
   "cell_type": "code",
   "execution_count": 16,
   "id": "4942bd02",
   "metadata": {},
   "outputs": [
    {
     "name": "stdout",
     "output_type": "stream",
     "text": [
      "<_io.TextIOWrapper name='DeadTest.txt' mode='r' encoding='UTF-8'>\n"
     ]
    }
   ],
   "source": [
    "with open ('DeadTest.txt','r') as arquivo:\n",
    "    print(arquivo)\n"
   ]
  },
  {
   "cell_type": "code",
   "execution_count": 18,
   "id": "5e3964cf",
   "metadata": {},
   "outputs": [],
   "source": [
    "with open ('DeadTest.txt','r') as arquivo:\n",
    "    print(arquivo.read(), end='')\n"
   ]
  },
  {
   "cell_type": "code",
   "execution_count": null,
   "id": "c984ec46",
   "metadata": {},
   "outputs": [],
   "source": []
  }
 ],
 "metadata": {
  "kernelspec": {
   "display_name": "Python 3 (ipykernel)",
   "language": "python",
   "name": "python3"
  },
  "language_info": {
   "codemirror_mode": {
    "name": "ipython",
    "version": 3
   },
   "file_extension": ".py",
   "mimetype": "text/x-python",
   "name": "python",
   "nbconvert_exporter": "python",
   "pygments_lexer": "ipython3",
   "version": "3.10.7"
  }
 },
 "nbformat": 4,
 "nbformat_minor": 5
}
