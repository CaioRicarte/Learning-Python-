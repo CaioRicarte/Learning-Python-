{
 "cells": [
  {
   "cell_type": "code",
   "execution_count": 1,
   "id": "70afa6d6",
   "metadata": {},
   "outputs": [
    {
     "name": "stdout",
     "output_type": "stream",
     "text": [
      "Informe um número inteiro: 2\n",
      "1 2 \n",
      "1 2 "
     ]
    }
   ],
   "source": [
    "numero = int(input('Informe um número inteiro: '))\n",
    "\n",
    "for i in range(1, numero + 1):\n",
    "  print(i, end=' ')\n",
    "\n",
    "# Alternativamente...\n",
    "\n",
    "print()\n",
    "\n",
    "for i in range(numero):\n",
    "  print(i + 1, end=' ')"
   ]
  },
  {
   "cell_type": "code",
   "execution_count": 2,
   "id": "81729a9f",
   "metadata": {},
   "outputs": [
    {
     "name": "stdout",
     "output_type": "stream",
     "text": [
      "Informe um número inteiro: 2\n",
      "2 \n",
      "1 2 "
     ]
    }
   ],
   "source": [
    "numero = int(input('Informe um número inteiro: '))\n",
    "\n",
    "for i in range(2, numero + 1):\n",
    "  print(i, end=' ')\n",
    "\n",
    "# Alternativamente...\n",
    "\n",
    "print()\n",
    "\n",
    "for i in range(numero):\n",
    "  print(i + 1, end=' ')"
   ]
  },
  {
   "cell_type": "code",
   "execution_count": 4,
   "id": "c2e9ddc1",
   "metadata": {},
   "outputs": [
    {
     "name": "stdout",
     "output_type": "stream",
     "text": [
      "Informe um número inteiro: 7\n",
      "1\n",
      "2\n",
      "3\n",
      "4\n",
      "5\n",
      "6\n",
      "7\n"
     ]
    }
   ],
   "source": [
    "numero = int(input('Informe um número inteiro: '))\n",
    "\n",
    "for c in range (1, numero + 1):\n",
    "    print(c)"
   ]
  },
  {
   "cell_type": "code",
   "execution_count": 5,
   "id": "27890b6f",
   "metadata": {},
   "outputs": [
    {
     "name": "stdout",
     "output_type": "stream",
     "text": [
      "Informe um número inteiro: 22\n",
      "4\n",
      "5\n",
      "6\n",
      "7\n",
      "8\n",
      "9\n",
      "10\n",
      "11\n",
      "12\n",
      "13\n",
      "14\n",
      "15\n",
      "16\n",
      "17\n",
      "18\n",
      "19\n",
      "20\n",
      "21\n",
      "22\n"
     ]
    }
   ],
   "source": [
    "numero = int(input('Informe um número inteiro: '))\n",
    "\n",
    "for c in range (4, numero + 1):\n",
    "    print(c)"
   ]
  },
  {
   "cell_type": "code",
   "execution_count": 6,
   "id": "f8df027a",
   "metadata": {},
   "outputs": [
    {
     "name": "stdout",
     "output_type": "stream",
     "text": [
      "1 2 3 4 5 6 7 8 9 10 11 12 13 14 15 16 17 18 19 20 21 22 "
     ]
    }
   ],
   "source": [
    "for c in range(numero):\n",
    "  print(c + 1, end=' ')"
   ]
  },
  {
   "cell_type": "code",
   "execution_count": 13,
   "id": "6ed9960d",
   "metadata": {},
   "outputs": [
    {
     "ename": "SyntaxError",
     "evalue": "invalid syntax (2622602745.py, line 4)",
     "output_type": "error",
     "traceback": [
      "\u001b[0;36m  Cell \u001b[0;32mIn [13], line 4\u001b[0;36m\u001b[0m\n\u001b[0;31m    elif numero <= 25:\u001b[0m\n\u001b[0m    ^\u001b[0m\n\u001b[0;31mSyntaxError\u001b[0m\u001b[0;31m:\u001b[0m invalid syntax\n"
     ]
    }
   ],
   "source": [
    "numero = float(input('Digite um número de 0 a 100'))\n",
    "if numero < 0 or numero > 100:\n",
    "    print('Fora de intervalo')\n",
    "    elif numero <= 25:\n",
    "        print('Intervalo [0,25]')\n",
    "        elif numero <= 50:\n",
    "            print('Intervalo [25,50]')\n",
    "            elif numero <= 75:\n",
    "                print('Intervalo [50,75]')\n",
    "                      else numero <= 100:\n",
    "                        print('Intervalo [75,100]')\n",
    "                        \n",
    "                      "
   ]
  },
  {
   "cell_type": "code",
   "execution_count": 14,
   "id": "26fec9aa",
   "metadata": {},
   "outputs": [
    {
     "name": "stdout",
     "output_type": "stream",
     "text": [
      "Informe um número: 98\n",
      "(75,100]\n"
     ]
    }
   ],
   "source": [
    "numero = float(input('Informe um número: '))\n",
    "\n",
    "if numero < 0 or numero > 100:\n",
    "  print('Fora de intervalo')\n",
    "elif numero <= 25:\n",
    "  print('[0, 25]')\n",
    "elif numero <= 50:\n",
    "  print('(25, 50]')\n",
    "elif numero <= 75:\n",
    "  print('(50,75]')\n",
    "else:\n",
    "  print('(75,100]')"
   ]
  },
  {
   "cell_type": "code",
   "execution_count": 17,
   "id": "ed88e79a",
   "metadata": {},
   "outputs": [
    {
     "name": "stdout",
     "output_type": "stream",
     "text": [
      "Digite um número de 0 a 100: 98\n",
      "Intervalo [75,100]\n"
     ]
    }
   ],
   "source": [
    "numero = float(input('Digite um número de 0 a 100: '))\n",
    "if numero < 0 or numero > 100:\n",
    "    print('Fora de intervalo')\n",
    "elif numero <= 25:\n",
    "    print('Intervalo [0,25]')\n",
    "elif numero <= 50:\n",
    "    print('Intervalo [25,50]')\n",
    "elif numero <= 75:\n",
    "    print('Intervalo [50,75]')\n",
    "else:\n",
    "    print('Intervalo [75,100]')"
   ]
  },
  {
   "cell_type": "code",
   "execution_count": null,
   "id": "9aa24cf4",
   "metadata": {},
   "outputs": [],
   "source": []
  }
 ],
 "metadata": {
  "kernelspec": {
   "display_name": "Python 3 (ipykernel)",
   "language": "python",
   "name": "python3"
  },
  "language_info": {
   "codemirror_mode": {
    "name": "ipython",
    "version": 3
   },
   "file_extension": ".py",
   "mimetype": "text/x-python",
   "name": "python",
   "nbconvert_exporter": "python",
   "pygments_lexer": "ipython3",
   "version": "3.10.7"
  }
 },
 "nbformat": 4,
 "nbformat_minor": 5
}
