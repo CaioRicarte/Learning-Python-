{
 "cells": [
  {
   "cell_type": "code",
   "execution_count": 1,
   "id": "3d978876",
   "metadata": {},
   "outputs": [
    {
     "name": "stdout",
     "output_type": "stream",
     "text": [
      "São Paulo\n",
      "Londres\n",
      "Tokio\n",
      "Paris\n"
     ]
    }
   ],
   "source": [
    "nomes_cidades = ['São Paulo', 'Londres', 'Tokio', 'Paris']\n",
    "for nome in nomes_cidades:\n",
    "    print(nome)"
   ]
  },
  {
   "cell_type": "code",
   "execution_count": 2,
   "id": "7d2d94ac",
   "metadata": {},
   "outputs": [
    {
     "name": "stdout",
     "output_type": "stream",
     "text": [
      "São Paulo\n",
      "Londres\n",
      "Tokio\n",
      "Paris\n"
     ]
    }
   ],
   "source": [
    "contador = 0\n",
    "nomes_cidades = 'São Paulo', 'Londres', 'Tokio', 'Paris'\n",
    "while contador < len(nomes_cidades):\n",
    "    print(nomes_cidades[contador])\n",
    "    contador = contador + 1"
   ]
  },
  {
   "cell_type": "code",
   "execution_count": 3,
   "id": "6b41accc",
   "metadata": {},
   "outputs": [
    {
     "data": {
      "text/plain": [
       "4"
      ]
     },
     "execution_count": 3,
     "metadata": {},
     "output_type": "execute_result"
    }
   ],
   "source": [
    "len(nomes_cidades)"
   ]
  },
  {
   "cell_type": "code",
   "execution_count": 5,
   "id": "449233a1",
   "metadata": {},
   "outputs": [
    {
     "name": "stdout",
     "output_type": "stream",
     "text": [
      "São Paulo <class 'tuple'>\n",
      "Londres <class 'tuple'>\n",
      "Tokio <class 'tuple'>\n",
      "Paris <class 'tuple'>\n"
     ]
    }
   ],
   "source": [
    "nomes_cidades = 'São Paulo', 'Londres', 'Tokio', 'Paris'\n",
    "for nome in nomes_cidades:\n",
    "    print(nome, type(nomes_cidades))"
   ]
  },
  {
   "cell_type": "code",
   "execution_count": 8,
   "id": "8fe032a2",
   "metadata": {},
   "outputs": [
    {
     "name": "stdout",
     "output_type": "stream",
     "text": [
      "nome: São Paulo\n",
      "estado: São Paulo\n",
      "população_milhoes: 12.2\n"
     ]
    }
   ],
   "source": [
    "cidade = {\n",
    "    'nome': 'São Paulo',\n",
    "    'estado': 'São Paulo',\n",
    "    'população_milhoes': 12.2\n",
    "}\n",
    "for chave in cidade:\n",
    "    print(f'{chave}: {cidade[chave]}')"
   ]
  },
  {
   "cell_type": "code",
   "execution_count": 9,
   "id": "3ff347d0",
   "metadata": {},
   "outputs": [
    {
     "name": "stdout",
     "output_type": "stream",
     "text": [
      "nome\n",
      "estado\n",
      "população_milhoes\n"
     ]
    }
   ],
   "source": [
    "cidade = {\n",
    "    'nome': 'São Paulo',\n",
    "    'estado': 'São Paulo',\n",
    "    'população_milhoes': 12.2\n",
    "}\n",
    "for chave in cidade:\n",
    "    print(f'{chave}')"
   ]
  },
  {
   "cell_type": "code",
   "execution_count": 10,
   "id": "75330b32",
   "metadata": {},
   "outputs": [
    {
     "name": "stdout",
     "output_type": "stream",
     "text": [
      "São Paulo\n",
      "São Paulo\n",
      "12.2\n"
     ]
    }
   ],
   "source": [
    "cidade = {\n",
    "    'nome': 'São Paulo',\n",
    "    'estado': 'São Paulo',\n",
    "    'população_milhoes': 12.2\n",
    "}\n",
    "for chave in cidade:\n",
    "    print(f'{cidade[chave]}')"
   ]
  },
  {
   "cell_type": "code",
   "execution_count": 11,
   "id": "d7eb1957",
   "metadata": {},
   "outputs": [
    {
     "name": "stdout",
     "output_type": "stream",
     "text": [
      "{'nome': 'São Paulo', 'estado': 'São Paulo', 'população_milhoes': 12.2}\n",
      "{'nome': 'São Paulo', 'estado': 'São Paulo', 'população_milhoes': 12.2}\n",
      "{'nome': 'São Paulo', 'estado': 'São Paulo', 'população_milhoes': 12.2}\n"
     ]
    }
   ],
   "source": [
    "cidade = {\n",
    "    'nome': 'São Paulo',\n",
    "    'estado': 'São Paulo',\n",
    "    'população_milhoes': 12.2\n",
    "}\n",
    "for chave in cidade:\n",
    "    print(cidade)"
   ]
  },
  {
   "cell_type": "code",
   "execution_count": 12,
   "id": "8c5b6439",
   "metadata": {},
   "outputs": [
    {
     "name": "stdout",
     "output_type": "stream",
     "text": [
      "['São Paulo', 'Londres', 'Tokio', 'Paris']\n"
     ]
    }
   ],
   "source": [
    "nomes_cidades = ['São Paulo', 'Londres', 'Tokio', 'Paris']\n",
    "for nome in nomes_cidades:\n",
    "    nome = 'Rio de Janeiro'\n",
    "print(nomes_cidades)    \n",
    "    "
   ]
  },
  {
   "cell_type": "code",
   "execution_count": 14,
   "id": "a0b19821",
   "metadata": {},
   "outputs": [
    {
     "name": "stdout",
     "output_type": "stream",
     "text": [
      "['Rio de Janeiro', 'Rio de Janeiro', 'Rio de Janeiro', 'Rio de Janeiro']\n"
     ]
    }
   ],
   "source": [
    "for posicao in range(len(nomes_cidades)):\n",
    "    nomes_cidades[posicao] = 'Rio de Janeiro'\n",
    "print(nomes_cidades)    \n",
    "    "
   ]
  },
  {
   "cell_type": "code",
   "execution_count": null,
   "id": "79a91bef",
   "metadata": {},
   "outputs": [],
   "source": []
  }
 ],
 "metadata": {
  "kernelspec": {
   "display_name": "Python 3 (ipykernel)",
   "language": "python",
   "name": "python3"
  },
  "language_info": {
   "codemirror_mode": {
    "name": "ipython",
    "version": 3
   },
   "file_extension": ".py",
   "mimetype": "text/x-python",
   "name": "python",
   "nbconvert_exporter": "python",
   "pygments_lexer": "ipython3",
   "version": "3.10.7"
  }
 },
 "nbformat": 4,
 "nbformat_minor": 5
}
