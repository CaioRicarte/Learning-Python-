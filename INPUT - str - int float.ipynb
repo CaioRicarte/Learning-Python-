{
 "cells": [
  {
   "cell_type": "code",
   "execution_count": 1,
   "id": "d9e0a2d5",
   "metadata": {},
   "outputs": [
    {
     "name": "stdout",
     "output_type": "stream",
     "text": [
      "Informe a sua idade21\n",
      "21 <class 'str'>\n"
     ]
    }
   ],
   "source": [
    "idade = input(\"Informe a sua idade\")\n",
    "print (idade, type (idade))"
   ]
  },
  {
   "cell_type": "code",
   "execution_count": 2,
   "id": "fbcfa9aa",
   "metadata": {},
   "outputs": [
    {
     "name": "stdout",
     "output_type": "stream",
     "text": [
      "21 <class 'int'>\n"
     ]
    }
   ],
   "source": [
    "idade = int(idade)\n",
    "print (idade, type (idade))"
   ]
  },
  {
   "cell_type": "code",
   "execution_count": 3,
   "id": "277a961a",
   "metadata": {},
   "outputs": [
    {
     "name": "stdout",
     "output_type": "stream",
     "text": [
      "123.25\n",
      "123.25\n",
      "False\n",
      "True\n",
      "False\n",
      "True\n"
     ]
    }
   ],
   "source": [
    "print(float(\"123.25\"))\n",
    "print(str(123.25))\n",
    "print(bool(''))\n",
    "print(bool('abc'))\n",
    "print(bool(0))\n",
    "print(bool(-3))"
   ]
  },
  {
   "cell_type": "code",
   "execution_count": 4,
   "id": "42b3b7f9",
   "metadata": {},
   "outputs": [
    {
     "name": "stdout",
     "output_type": "stream",
     "text": [
      "Digite o valor do seu salário mensal5000\n",
      "Digite o valor do seu gasto mensal em média2000\n"
     ]
    },
    {
     "ename": "NameError",
     "evalue": "name 'salario_mensasl' is not defined",
     "output_type": "error",
     "traceback": [
      "\u001b[0;31m---------------------------------------------------------------------------\u001b[0m",
      "\u001b[0;31mNameError\u001b[0m                                 Traceback (most recent call last)",
      "Cell \u001b[0;32mIn [4], line 7\u001b[0m\n\u001b[1;32m      4\u001b[0m gasto_mensal \u001b[38;5;241m=\u001b[39m \u001b[38;5;28minput\u001b[39m (\u001b[38;5;124m\"\u001b[39m\u001b[38;5;124mDigite o valor do seu gasto mensal em média\u001b[39m\u001b[38;5;124m\"\u001b[39m)\n\u001b[1;32m      5\u001b[0m gasto_mensal \u001b[38;5;241m=\u001b[39m \u001b[38;5;28mfloat\u001b[39m(gasto_mensal)\n\u001b[0;32m----> 7\u001b[0m salario_total \u001b[38;5;241m=\u001b[39m \u001b[43msalario_mensasl\u001b[49m \u001b[38;5;241m*\u001b[39m \u001b[38;5;241m12\u001b[39m\n\u001b[1;32m      8\u001b[0m gasto_total \u001b[38;5;241m=\u001b[39m gasto_mensal \u001b[38;5;241m*\u001b[39m \u001b[38;5;241m12\u001b[39m\n\u001b[1;32m     10\u001b[0m montante_economizado \u001b[38;5;241m=\u001b[39m salario_total \u001b[38;5;241m-\u001b[39m gasto_total\n",
      "\u001b[0;31mNameError\u001b[0m: name 'salario_mensasl' is not defined"
     ]
    }
   ],
   "source": [
    "salario_mensal = input (\"Digite o valor do seu salário mensal\")\n",
    "salario_mensal = float(salario_mensal)\n",
    "\n",
    "gasto_mensal = input (\"Digite o valor do seu gasto mensal em média\")\n",
    "gasto_mensal = float(gasto_mensal)\n",
    "\n",
    "salario_total = salario_mensasl * 12\n",
    "gasto_total = gasto_mensal * 12\n",
    "\n",
    "montante_economizado = salario_total - gasto_total\n",
    "print('O montante que você pode economizar ao fim do ano é de', montante_economizado)"
   ]
  },
  {
   "cell_type": "code",
   "execution_count": 5,
   "id": "2d18cfe2",
   "metadata": {},
   "outputs": [
    {
     "name": "stdout",
     "output_type": "stream",
     "text": [
      "Digite o valor do seu salário mensal5000\n",
      "Digite o valor do seu gasto mensal em média2000\n",
      "O montante que você pode economizar ao fim do ano é de 36000.0\n"
     ]
    }
   ],
   "source": [
    "salario_mensal = input (\"Digite o valor do seu salário mensal\")\n",
    "salario_mensal = float(salario_mensal)\n",
    "\n",
    "gasto_mensal = input (\"Digite o valor do seu gasto mensal em média\")\n",
    "gasto_mensal = float(gasto_mensal)\n",
    "\n",
    "salario_total = salario_mensal * 12\n",
    "gasto_total = gasto_mensal * 12\n",
    "\n",
    "montante_economizado = salario_total - gasto_total\n",
    "print('O montante que você pode economizar ao fim do ano é de', montante_economizado)"
   ]
  },
  {
   "cell_type": "code",
   "execution_count": null,
   "id": "5b795b15",
   "metadata": {},
   "outputs": [],
   "source": [
    "salario_mensal = input (\"Digite o valor do seu salário\")\n",
    "salario_mensal = float (salario_mensal)\n",
    "\n",
    "salario_total = salario_mensal * 12\n",
    "\n",
    "print ('O salário total do ano é de')"
   ]
  },
  {
   "cell_type": "code",
   "execution_count": null,
   "id": "79302b14",
   "metadata": {},
   "outputs": [],
   "source": []
  }
 ],
 "metadata": {
  "kernelspec": {
   "display_name": "Python 3 (ipykernel)",
   "language": "python",
   "name": "python3"
  },
  "language_info": {
   "codemirror_mode": {
    "name": "ipython",
    "version": 3
   },
   "file_extension": ".py",
   "mimetype": "text/x-python",
   "name": "python",
   "nbconvert_exporter": "python",
   "pygments_lexer": "ipython3",
   "version": "3.10.7"
  }
 },
 "nbformat": 4,
 "nbformat_minor": 5
}
