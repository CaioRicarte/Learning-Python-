{
 "cells": [
  {
   "cell_type": "code",
   "execution_count": 1,
   "id": "8423c695",
   "metadata": {},
   "outputs": [
    {
     "name": "stdout",
     "output_type": "stream",
     "text": [
      "['Brasil', 'Russia', 'India', 'China', 'América do Sul']\n"
     ]
    }
   ],
   "source": [
    "nomes_países = ['Brasil', 'Russia', 'India', 'China', 'América do Sul'] \n",
    "print(nomes_países)"
   ]
  },
  {
   "cell_type": "code",
   "execution_count": 2,
   "id": "8760a3f1",
   "metadata": {},
   "outputs": [
    {
     "name": "stdout",
     "output_type": "stream",
     "text": [
      "Tamanho da Lista 5\n"
     ]
    }
   ],
   "source": [
    "print('Tamanho da Lista', len(nomes_países))"
   ]
  },
  {
   "cell_type": "code",
   "execution_count": 3,
   "id": "5883dd06",
   "metadata": {},
   "outputs": [
    {
     "ename": "IndexError",
     "evalue": "list index out of range",
     "output_type": "error",
     "traceback": [
      "\u001b[0;31m---------------------------------------------------------------------------\u001b[0m",
      "\u001b[0;31mIndexError\u001b[0m                                Traceback (most recent call last)",
      "Cell \u001b[0;32mIn [3], line 1\u001b[0m\n\u001b[0;32m----> 1\u001b[0m \u001b[38;5;28mprint\u001b[39m(\u001b[38;5;124m'\u001b[39m\u001b[38;5;124mPaís:\u001b[39m\u001b[38;5;124m'\u001b[39m, \u001b[43mnomes_países\u001b[49m\u001b[43m[\u001b[49m\u001b[38;5;241;43m5\u001b[39;49m\u001b[43m]\u001b[49m)\n",
      "\u001b[0;31mIndexError\u001b[0m: list index out of range"
     ]
    }
   ],
   "source": [
    "print('País:', nomes_países[5]l)"
   ]
  },
  {
   "cell_type": "code",
   "execution_count": 4,
   "id": "1ac556f7",
   "metadata": {},
   "outputs": [
    {
     "name": "stdout",
     "output_type": "stream",
     "text": [
      "País: América do Sul\n"
     ]
    }
   ],
   "source": [
    "print('País:', nomes_países[4])"
   ]
  },
  {
   "cell_type": "code",
   "execution_count": 5,
   "id": "2402f93a",
   "metadata": {},
   "outputs": [
    {
     "name": "stdout",
     "output_type": "stream",
     "text": [
      "País: Russia\n"
     ]
    }
   ],
   "source": [
    "print('País:', nomes_países[-4])"
   ]
  },
  {
   "cell_type": "code",
   "execution_count": 19,
   "id": "e99b2313",
   "metadata": {},
   "outputs": [
    {
     "name": "stdout",
     "output_type": "stream",
     "text": [
      "Japão\n"
     ]
    }
   ],
   "source": [
    "nomes_países[4] = 'Japão'\n",
    "print(nomes_países[4])"
   ]
  },
  {
   "cell_type": "code",
   "execution_count": 7,
   "id": "fc5c6e5f",
   "metadata": {},
   "outputs": [
    {
     "name": "stdout",
     "output_type": "stream",
     "text": [
      "Japão\n"
     ]
    }
   ],
   "source": [
    "nomes_países[4] = 'Japão'\n",
    "print(nomes_países[4])"
   ]
  },
  {
   "cell_type": "code",
   "execution_count": 8,
   "id": "c15f9b33",
   "metadata": {},
   "outputs": [
    {
     "name": "stdout",
     "output_type": "stream",
     "text": [
      "['Russia', 'India', 'China', 'Japão']\n"
     ]
    }
   ],
   "source": [
    "print(nomes_países[1:5])"
   ]
  },
  {
   "cell_type": "code",
   "execution_count": 9,
   "id": "9053067c",
   "metadata": {},
   "outputs": [
    {
     "name": "stdout",
     "output_type": "stream",
     "text": [
      "['Russia', 'India', 'China', 'Japão']\n"
     ]
    }
   ],
   "source": [
    "print(nomes_países[1:])"
   ]
  },
  {
   "cell_type": "code",
   "execution_count": 10,
   "id": "62b6ff6f",
   "metadata": {},
   "outputs": [
    {
     "name": "stdout",
     "output_type": "stream",
     "text": [
      "['Brasil', 'Russia', 'India', 'China', 'Japão']\n"
     ]
    }
   ],
   "source": [
    "print(nomes_países[0:])"
   ]
  },
  {
   "cell_type": "code",
   "execution_count": 11,
   "id": "1889d2a7",
   "metadata": {},
   "outputs": [
    {
     "name": "stdout",
     "output_type": "stream",
     "text": [
      "True\n"
     ]
    }
   ],
   "source": [
    "print(\"Canadá\"not in nomes_países)"
   ]
  },
  {
   "cell_type": "code",
   "execution_count": 12,
   "id": "cdebf15c",
   "metadata": {},
   "outputs": [
    {
     "name": "stdout",
     "output_type": "stream",
     "text": [
      "False\n"
     ]
    }
   ],
   "source": [
    "print(\"Canadá\" in nomes_países)"
   ]
  },
  {
   "cell_type": "code",
   "execution_count": 13,
   "id": "1b2179e5",
   "metadata": {},
   "outputs": [],
   "source": [
    "lista_capitais = []"
   ]
  },
  {
   "cell_type": "code",
   "execution_count": 14,
   "id": "d17dd790",
   "metadata": {},
   "outputs": [
    {
     "name": "stdout",
     "output_type": "stream",
     "text": [
      "['Recife', 'Salvador', 'São Paulo', 'Rio de Janeiro', 'Curitiba']\n"
     ]
    }
   ],
   "source": [
    "lista_capitais.append('Recife')\n",
    "lista_capitais.append('Salvador')\n",
    "lista_capitais.append('São Paulo')\n",
    "lista_capitais.append('Rio de Janeiro')\n",
    "lista_capitais.append('Curitiba')\n",
    "\n",
    "print(lista_capitais)"
   ]
  },
  {
   "cell_type": "code",
   "execution_count": 16,
   "id": "06ad0a09",
   "metadata": {},
   "outputs": [
    {
     "name": "stdout",
     "output_type": "stream",
     "text": [
      "['Recife', 'Salvador', 'Seul', 'São Paulo', 'Rio de Janeiro', 'Curitiba']\n"
     ]
    }
   ],
   "source": [
    "lista_capitais.insert(2,\"Seul\")\n",
    "print(lista_capitais)"
   ]
  },
  {
   "cell_type": "code",
   "execution_count": 18,
   "id": "a0298f06",
   "metadata": {},
   "outputs": [
    {
     "name": "stdout",
     "output_type": "stream",
     "text": [
      "['Recife', 'Seul', 'São Paulo', 'Rio de Janeiro', 'Curitiba']\n"
     ]
    }
   ],
   "source": [
    "lista_capitais.remove('Salvador')\n",
    "print(lista_capitais)"
   ]
  },
  {
   "cell_type": "code",
   "execution_count": 20,
   "id": "6a89c615",
   "metadata": {},
   "outputs": [
    {
     "name": "stdout",
     "output_type": "stream",
     "text": [
      "['Recife', 'Seul', 'Rio de Janeiro', 'Curitiba'] São Paulo\n"
     ]
    }
   ],
   "source": [
    "removido = lista_capitais.pop(2)\n",
    "\n",
    "print(lista_capitais, removido)"
   ]
  },
  {
   "cell_type": "code",
   "execution_count": 4,
   "id": "354334d6",
   "metadata": {},
   "outputs": [
    {
     "name": "stdout",
     "output_type": "stream",
     "text": [
      "['Recife', 'Seul', 'São Paulo', 'Rio de Janeiro', 'Curitiba']\n"
     ]
    }
   ],
   "source": [
    "lista_capitais = ['Recife', 'Seul', 'São Paulo', 'Rio de Janeiro', 'Curitiba']\n",
    "print(lista_capitais)"
   ]
  },
  {
   "cell_type": "code",
   "execution_count": 5,
   "id": "2dee2976",
   "metadata": {},
   "outputs": [
    {
     "name": "stdout",
     "output_type": "stream",
     "text": [
      "['Recife', 'São Paulo', 'Curitiba']\n"
     ]
    }
   ],
   "source": [
    "print(lista_capitais[::2])"
   ]
  },
  {
   "cell_type": "code",
   "execution_count": null,
   "id": "fad83774",
   "metadata": {},
   "outputs": [],
   "source": []
  }
 ],
 "metadata": {
  "kernelspec": {
   "display_name": "Python 3 (ipykernel)",
   "language": "python",
   "name": "python3"
  },
  "language_info": {
   "codemirror_mode": {
    "name": "ipython",
    "version": 3
   },
   "file_extension": ".py",
   "mimetype": "text/x-python",
   "name": "python",
   "nbconvert_exporter": "python",
   "pygments_lexer": "ipython3",
   "version": "3.10.7"
  }
 },
 "nbformat": 4,
 "nbformat_minor": 5
}
