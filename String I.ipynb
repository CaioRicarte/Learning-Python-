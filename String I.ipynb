{
 "cells": [
  {
   "cell_type": "code",
   "execution_count": 2,
   "id": "494b6075",
   "metadata": {},
   "outputs": [
    {
     "name": "stdout",
     "output_type": "stream",
     "text": [
      "Let' code\n"
     ]
    }
   ],
   "source": [
    "empresa = \"n' code\"\n",
    "print(empresa)"
   ]
  },
  {
   "cell_type": "code",
   "execution_count": 4,
   "id": "e64f2035",
   "metadata": {},
   "outputs": [],
   "source": [
    "frase = \"O professor pietro da let's code disse: \\\"Hoje a pizza é por minha conta\\\"\""
   ]
  },
  {
   "cell_type": "code",
   "execution_count": 5,
   "id": "6427fec3",
   "metadata": {},
   "outputs": [
    {
     "name": "stdout",
     "output_type": "stream",
     "text": [
      "d\n"
     ]
    }
   ],
   "source": [
    "print(empresa[7])"
   ]
  },
  {
   "cell_type": "code",
   "execution_count": 6,
   "id": "5ad019a2",
   "metadata": {},
   "outputs": [
    {
     "name": "stdout",
     "output_type": "stream",
     "text": [
      "t' code\n"
     ]
    }
   ],
   "source": [
    "print(empresa[2:])"
   ]
  },
  {
   "cell_type": "code",
   "execution_count": 7,
   "id": "8acd3def",
   "metadata": {},
   "outputs": [
    {
     "name": "stdout",
     "output_type": "stream",
     "text": [
      "Let\n"
     ]
    }
   ],
   "source": [
    "print(empresa[:3])"
   ]
  },
  {
   "cell_type": "code",
   "execution_count": 13,
   "id": "26eb9ab8",
   "metadata": {},
   "outputs": [
    {
     "name": "stdout",
     "output_type": "stream",
     "text": [
      "['Brasil', 'Argentina', 'China', 'Canadá', 'Japão']\n"
     ]
    }
   ],
   "source": [
    "# Metodo split\n",
    "nome_paises = \"Brasil, Argentina, China, Canadá, Japão\"\n",
    "nome_paises = nome_paises.split(', ')\n",
    "print(nome_paises)\n"
   ]
  },
  {
   "cell_type": "code",
   "execution_count": 14,
   "id": "556697a2",
   "metadata": {},
   "outputs": [
    {
     "name": "stdout",
     "output_type": "stream",
     "text": [
      "Menu Principal.\n"
     ]
    }
   ],
   "source": [
    "# Metodo strip\n",
    "cabecalho = \"               Menu Principal.                \"\n",
    "print(cabecalho.strip())"
   ]
  },
  {
   "cell_type": "code",
   "execution_count": 15,
   "id": "1b64168d",
   "metadata": {},
   "outputs": [
    {
     "name": "stdout",
     "output_type": "stream",
     "text": [
      "Rio De Janeiro\n",
      "Rio de janeiro\n",
      "rio de janeiro\n",
      "RIO DE JANEIRO\n"
     ]
    }
   ],
   "source": [
    "#Formatação\n",
    "nome_cidade = \"rIo DE jaNeirO\"\n",
    "\n",
    "print(nome_cidade.title())\n",
    "print(nome_cidade.capitalize())\n",
    "print(nome_cidade.lower())\n",
    "print(nome_cidade.upper())\n"
   ]
  },
  {
   "cell_type": "code",
   "execution_count": 1,
   "id": "05f4338e",
   "metadata": {},
   "outputs": [
    {
     "name": "stdout",
     "output_type": "stream",
     "text": [
      "Qual cidade do Brasil é conhecida como cidade maravilhosa? Recife\n",
      "Tente de novo\n",
      "Qual cidade do Brasil é conhecida como cidade maravilhosa? RIO DE JANEIRO\n",
      "Parabéns\n"
     ]
    }
   ],
   "source": [
    "nome_cidade = input(\"Qual cidade do Brasil é conhecida como cidade maravilhosa? \")\n",
    "nome_cidade = nome_cidade.strip()\n",
    "while nome_cidade.lower() != 'rio de janeiro':\n",
    "    print(\"Tente de novo\")\n",
    "    nome_cidade = input(\"Qual cidade do Brasil é conhecida como cidade maravilhosa? \")\n",
    "print(\"Parabéns\")\n",
    "    "
   ]
  },
  {
   "cell_type": "code",
   "execution_count": 2,
   "id": "5debbdb6",
   "metadata": {},
   "outputs": [
    {
     "name": "stdout",
     "output_type": "stream",
     "text": [
      "Qual cidade do Brasil é conhecida como cidade maravilhosa? rIo DE JANeiro\n",
      "Parabéns\n"
     ]
    }
   ],
   "source": [
    "nome_cidade = input(\"Qual cidade do Brasil é conhecida como cidade maravilhosa? \")\n",
    "nome_cidade = nome_cidade.strip()\n",
    "while nome_cidade.lower() != 'rio de janeiro':\n",
    "    print(\"Tente de novo\")\n",
    "    nome_cidade = input(\"Qual cidade do Brasil é conhecida como cidade maravilhosa? \")\n",
    "print(\"Parabéns\")"
   ]
  },
  {
   "cell_type": "code",
   "execution_count": 3,
   "id": "6b7fd8bb",
   "metadata": {},
   "outputs": [
    {
     "name": "stdout",
     "output_type": "stream",
     "text": [
      "Qual cidade do Brasil é conhecida como cidade maravilhosa? rio de janeiro\n",
      "Parabéns\n"
     ]
    }
   ],
   "source": [
    "nome_cidade = input(\"Qual cidade do Brasil é conhecida como cidade maravilhosa? \")\n",
    "nome_cidade = nome_cidade.strip()\n",
    "while nome_cidade.lower() != 'rio de janeiro':\n",
    "    print(\"Tente de novo\")\n",
    "    nome_cidade = input(\"Qual cidade do Brasil é conhecida como cidade maravilhosa? \")\n",
    "print(\"Parabéns\")"
   ]
  },
  {
   "cell_type": "code",
   "execution_count": 4,
   "id": "21a762f7",
   "metadata": {},
   "outputs": [
    {
     "name": "stdout",
     "output_type": "stream",
     "text": [
      "Qual cidade do Brasil é conhecida como cidade maravilhosa? Rio DE JANEIRO\n",
      "Tente de novo\n",
      "Qual cidade do Brasil é conhecida como cidade maravilhosa? rIo de janeiro\n",
      "Tente de novo\n",
      "Qual cidade do Brasil é conhecida como cidade maravilhosa? rio de janeiro\n",
      "Parabéns\n"
     ]
    }
   ],
   "source": [
    "nome_cidade = input(\"Qual cidade do Brasil é conhecida como cidade maravilhosa? \")\n",
    "nome_cidade = nome_cidade.strip()\n",
    "while nome_cidade != 'rio de janeiro':\n",
    "    print(\"Tente de novo\")\n",
    "    nome_cidade = input(\"Qual cidade do Brasil é conhecida como cidade maravilhosa? \")\n",
    "print(\"Parabéns\")"
   ]
  },
  {
   "cell_type": "code",
   "execution_count": null,
   "id": "cb680658",
   "metadata": {},
   "outputs": [
    {
     "name": "stdout",
     "output_type": "stream",
     "text": [
      "Qual cidade do Brasil é conhecida como cidade maravilhosa? rio de janeiro\n",
      "Tente de novo\n"
     ]
    }
   ],
   "source": [
    "nome_cidade = input(\"Qual cidade do Brasil é conhecida como cidade maravilhosa? \")\n",
    "nome_cidade = nome_cidade.strip()\n",
    "while nome_cidade.upper() != 'rio de janeiro':\n",
    "    print(\"Tente de novo\")\n",
    "    nome_cidade = input(\"Qual cidade do Brasil é conhecida como cidade maravilhosa? \")\n",
    "print(\"Parabéns\")"
   ]
  },
  {
   "cell_type": "code",
   "execution_count": 1,
   "id": "00a98d2d",
   "metadata": {},
   "outputs": [
    {
     "name": "stdout",
     "output_type": "stream",
     "text": [
      "Qual cidade do Brasil é conhecida como cidade maravilhosa? rio de janeiro\n",
      "Parabéns\n"
     ]
    }
   ],
   "source": [
    "nome_cidade = input(\"Qual cidade do Brasil é conhecida como cidade maravilhosa? \")\n",
    "nome_cidade = nome_cidade.strip()\n",
    "while nome_cidade.upper() != 'RIO DE JANEIRO':\n",
    "    print(\"Tente de novo\")\n",
    "    nome_cidade = input(\"Qual cidade do Brasil é conhecida como cidade maravilhosa? \")\n",
    "print(\"Parabéns\")"
   ]
  },
  {
   "cell_type": "code",
   "execution_count": 2,
   "id": "c8b96baf",
   "metadata": {},
   "outputs": [
    {
     "name": "stdout",
     "output_type": "stream",
     "text": [
      "True\n"
     ]
    }
   ],
   "source": [
    "mensagem = \"Você ouviu o que o Pietro disse?\"\n",
    "fui_citado = 'Pietro'in mensagem\n",
    "print(fui_citado)\n"
   ]
  },
  {
   "cell_type": "code",
   "execution_count": 3,
   "id": "934b20de",
   "metadata": {},
   "outputs": [
    {
     "name": "stdout",
     "output_type": "stream",
     "text": [
      "False\n"
     ]
    }
   ],
   "source": [
    "mensagem = \"Você ouviu o que o Pietro disse?\"\n",
    "fui_citado = 'Pietro' not in mensagem\n",
    "print(fui_citado)\n"
   ]
  },
  {
   "cell_type": "code",
   "execution_count": null,
   "id": "e742d0e1",
   "metadata": {},
   "outputs": [],
   "source": []
  }
 ],
 "metadata": {
  "kernelspec": {
   "display_name": "Python 3 (ipykernel)",
   "language": "python",
   "name": "python3"
  },
  "language_info": {
   "codemirror_mode": {
    "name": "ipython",
    "version": 3
   },
   "file_extension": ".py",
   "mimetype": "text/x-python",
   "name": "python",
   "nbconvert_exporter": "python",
   "pygments_lexer": "ipython3",
   "version": "3.10.7"
  }
 },
 "nbformat": 4,
 "nbformat_minor": 5
}
