{
 "cells": [
  {
   "cell_type": "code",
   "execution_count": 1,
   "id": "e491acd0",
   "metadata": {},
   "outputs": [
    {
     "name": "stdout",
     "output_type": "stream",
     "text": [
      "Olá, Caio\n"
     ]
    }
   ],
   "source": [
    "cumprimento = \"Olá, \"\n",
    "nome = 'Caio'\n",
    "print(cumprimento + nome)\n",
    "\n"
   ]
  },
  {
   "cell_type": "code",
   "execution_count": 2,
   "id": "50e4b591",
   "metadata": {},
   "outputs": [
    {
     "name": "stdout",
     "output_type": "stream",
     "text": [
      "CaioCaioCaioCaioCaio\n"
     ]
    }
   ],
   "source": [
    "print(nome * 5)"
   ]
  },
  {
   "cell_type": "code",
   "execution_count": 6,
   "id": "d0a6d8b5",
   "metadata": {},
   "outputs": [
    {
     "name": "stdout",
     "output_type": "stream",
     "text": [
      "Caio tem 21 anos e 1 filho \n"
     ]
    }
   ],
   "source": [
    "idade = 21\n",
    "n_filhos = 1\n",
    "print(nome + ' tem ' + str(idade) + ' anos e ' + str(n_filhos) + ' filho ')"
   ]
  },
  {
   "cell_type": "code",
   "execution_count": 7,
   "id": "be95ab9b",
   "metadata": {},
   "outputs": [
    {
     "name": "stdout",
     "output_type": "stream",
     "text": [
      "Caio tem 21 anos e 1 filhos\n"
     ]
    }
   ],
   "source": [
    "#Metodo format\n",
    "print('{} tem {} anos e {} filhos'.format(nome, idade, n_filhos))\n"
   ]
  },
  {
   "cell_type": "code",
   "execution_count": 9,
   "id": "4371cfbc",
   "metadata": {},
   "outputs": [
    {
     "name": "stdout",
     "output_type": "stream",
     "text": [
      "O preço da gasolina subiu e atualmente está custando 3.476 reais\n"
     ]
    }
   ],
   "source": [
    "preco_gasolina = 3.476\n",
    "print('O preço da gasolina subiu e atualmente está custando {} reais'.format(preco_gasolina))"
   ]
  },
  {
   "cell_type": "code",
   "execution_count": 10,
   "id": "9911ecb1",
   "metadata": {},
   "outputs": [
    {
     "name": "stdout",
     "output_type": "stream",
     "text": [
      "O preço da gasolina subiu e atualmente está custando 3.48 reais\n"
     ]
    }
   ],
   "source": [
    "preco_gasolina = 3.476\n",
    "print('O preço da gasolina subiu e atualmente está custando {:.2f} reais'.format(preco_gasolina))"
   ]
  },
  {
   "cell_type": "code",
   "execution_count": 11,
   "id": "0b8eb418",
   "metadata": {},
   "outputs": [
    {
     "name": "stdout",
     "output_type": "stream",
     "text": [
      "O preço da gasolina subiu e atualmente está custando 3.476000 reais\n"
     ]
    }
   ],
   "source": [
    "preco_gasolina = 3.476\n",
    "print('O preço da gasolina subiu e atualmente está custando {:2f} reais'.format(preco_gasolina))"
   ]
  },
  {
   "cell_type": "code",
   "execution_count": 12,
   "id": "38a80347",
   "metadata": {},
   "outputs": [
    {
     "name": "stdout",
     "output_type": "stream",
     "text": [
      "O preço da gasolina subiu e atualmente está custando 3.5 reais\n"
     ]
    }
   ],
   "source": [
    "preco_gasolina = 3.476\n",
    "print('O preço da gasolina subiu e atualmente está custando {:.2} reais'.format(preco_gasolina))"
   ]
  },
  {
   "cell_type": "code",
   "execution_count": 13,
   "id": "ce5ba1d3",
   "metadata": {},
   "outputs": [
    {
     "name": "stdout",
     "output_type": "stream",
     "text": [
      "O preço da gasolina subiu e atualmente está custando 3.5 reais\n"
     ]
    }
   ],
   "source": [
    "preco_gasolina = 3.476\n",
    "print('O preço da gasolina subiu e atualmente está custando {:.1f} reais'.format(preco_gasolina))"
   ]
  },
  {
   "cell_type": "code",
   "execution_count": 14,
   "id": "17685ae3",
   "metadata": {},
   "outputs": [
    {
     "name": "stdout",
     "output_type": "stream",
     "text": [
      "Caio tem 21 anos e 1 filhos\n"
     ]
    }
   ],
   "source": [
    "print(f'{nome} tem {idade} anos e {n_filhos} filhos')\n"
   ]
  },
  {
   "cell_type": "code",
   "execution_count": null,
   "id": "94fe1504",
   "metadata": {},
   "outputs": [],
   "source": []
  }
 ],
 "metadata": {
  "kernelspec": {
   "display_name": "Python 3 (ipykernel)",
   "language": "python",
   "name": "python3"
  },
  "language_info": {
   "codemirror_mode": {
    "name": "ipython",
    "version": 3
   },
   "file_extension": ".py",
   "mimetype": "text/x-python",
   "name": "python",
   "nbconvert_exporter": "python",
   "pygments_lexer": "ipython3",
   "version": "3.10.7"
  }
 },
 "nbformat": 4,
 "nbformat_minor": 5
}
