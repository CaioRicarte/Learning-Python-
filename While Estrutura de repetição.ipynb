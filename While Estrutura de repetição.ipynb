{
 "cells": [
  {
   "cell_type": "code",
   "execution_count": 1,
   "id": "701ab79d",
   "metadata": {},
   "outputs": [
    {
     "name": "stdout",
     "output_type": "stream",
     "text": [
      "1 item limpo\n",
      "2 itens limpos\n",
      "3 itens limpos\n",
      "4 itens limpos\n",
      "5 itens limpos\n",
      "6 itens limpos\n",
      "7 itens limpos\n",
      "8 itens limpos\n",
      "9 itens limpos\n",
      "10 itens limpos\n",
      "fim da repetição do bloco while\n"
     ]
    }
   ],
   "source": [
    "contador = 0 \n",
    "\n",
    "while contador < 10:\n",
    "    contador = contador + 1\n",
    "    if contador == 1:\n",
    "        print(contador, 'item limpo')\n",
    "    else:\n",
    "        print(contador, 'itens limpos')\n",
    "        \n",
    "print('fim da repetição do bloco while')        "
   ]
  },
  {
   "cell_type": "code",
   "execution_count": 2,
   "id": "9bacb567",
   "metadata": {},
   "outputs": [
    {
     "ename": "IndentationError",
     "evalue": "expected an indented block after 'if' statement on line 6 (3666220573.py, line 7)",
     "output_type": "error",
     "traceback": [
      "\u001b[0;36m  Cell \u001b[0;32mIn [2], line 7\u001b[0;36m\u001b[0m\n\u001b[0;31m    print(contador, 'item limpo')\u001b[0m\n\u001b[0m    ^\u001b[0m\n\u001b[0;31mIndentationError\u001b[0m\u001b[0;31m:\u001b[0m expected an indented block after 'if' statement on line 6\n"
     ]
    }
   ],
   "source": [
    "contador = 0\n",
    "\n",
    "while True:\n",
    "    if contador < 10:\n",
    "        contador = contador + 1\n",
    "        if contador == 1:\n",
    "        print(contador, 'item limpo')\n",
    "        else:\n",
    "            print(contador, 'itens limpos')\n",
    "    else:\n",
    "        break\n",
    "        \n",
    "print('fim da repetição do bloco while')\n",
    "    "
   ]
  },
  {
   "cell_type": "code",
   "execution_count": 3,
   "id": "47d75701",
   "metadata": {},
   "outputs": [
    {
     "name": "stdout",
     "output_type": "stream",
     "text": [
      "1 item limpo\n",
      "2 itens limpos\n",
      "3 itens limpos\n",
      "4 itens limpos\n",
      "5 itens limpos\n",
      "6 itens limpos\n",
      "7 itens limpos\n",
      "8 itens limpos\n",
      "9 itens limpos\n",
      "10 itens limpos\n",
      "fim da repetição do bloco while\n"
     ]
    }
   ],
   "source": [
    "contador = 0\n",
    "\n",
    "while True:\n",
    "    if contador < 10:\n",
    "        contador = contador +1\n",
    "        if contador == 1:\n",
    "            print(contador, 'item limpo')\n",
    "        else:\n",
    "            print(contador, 'itens limpos')\n",
    "    else:\n",
    "        break\n",
    "        \n",
    "print('fim da repetição do bloco while')        "
   ]
  },
  {
   "cell_type": "code",
   "execution_count": 4,
   "id": "70f1dfc9",
   "metadata": {},
   "outputs": [
    {
     "name": "stdout",
     "output_type": "stream",
     "text": [
      "Digite a sua senhacaio2001\n",
      "Senha invalida. tente novamenteCaio2001\n",
      "Acesso permitido\n"
     ]
    }
   ],
   "source": [
    "texto = input('Digite a sua senha')\n",
    "\n",
    "while texto != 'Caio2001':\n",
    "    texto = input('Senha invalida. tente novamente')\n",
    "    \n",
    "print('Acesso permitido')    "
   ]
  },
  {
   "cell_type": "code",
   "execution_count": 5,
   "id": "7656682b",
   "metadata": {},
   "outputs": [
    {
     "name": "stdout",
     "output_type": "stream",
     "text": [
      "2 itens limpos\n",
      "3 itens limpos\n",
      "4 itens limpos\n",
      "5 itens limpos\n",
      "6 itens limpos\n",
      "7 itens limpos\n",
      "8 itens limpos\n",
      "9 itens limpos\n",
      "10 itens limpos\n",
      "fim da repetição do bloco while\n"
     ]
    }
   ],
   "source": [
    "contador = 0 \n",
    "\n",
    "while contador < 10:\n",
    "    contador = contador + 1\n",
    "    if contador == 1:\n",
    "        continue\n",
    "\n",
    "    print(contador, 'itens limpos')\n",
    "        \n",
    "print('fim da repetição do bloco while')   "
   ]
  },
  {
   "cell_type": "code",
   "execution_count": null,
   "id": "36ab90d9",
   "metadata": {},
   "outputs": [],
   "source": []
  }
 ],
 "metadata": {
  "kernelspec": {
   "display_name": "Python 3 (ipykernel)",
   "language": "python",
   "name": "python3"
  },
  "language_info": {
   "codemirror_mode": {
    "name": "ipython",
    "version": 3
   },
   "file_extension": ".py",
   "mimetype": "text/x-python",
   "name": "python",
   "nbconvert_exporter": "python",
   "pygments_lexer": "ipython3",
   "version": "3.10.7"
  }
 },
 "nbformat": 4,
 "nbformat_minor": 5
}
