{
 "cells": [
  {
   "cell_type": "code",
   "execution_count": 1,
   "id": "eec3e26b",
   "metadata": {},
   "outputs": [],
   "source": [
    "def calcular_media (valor1,valor2,valor3):\n",
    "    soma = valor1 + valor2 + valor3\n",
    "    media = soma / 3\n",
    "    return media\n",
    "    "
   ]
  },
  {
   "cell_type": "code",
   "execution_count": 2,
   "id": "db441826",
   "metadata": {},
   "outputs": [],
   "source": [
    "def calcular_media (*args, margem):\n",
    "    soma = sum(args)\n",
    "    media = soma / len(args)\n",
    "    return media + margem"
   ]
  },
  {
   "cell_type": "code",
   "execution_count": 4,
   "id": "14e75a68",
   "metadata": {},
   "outputs": [
    {
     "data": {
      "text/plain": [
       "9.9"
      ]
     },
     "execution_count": 4,
     "metadata": {},
     "output_type": "execute_result"
    }
   ],
   "source": [
    "calcular_media(10,8,9, margem = 0.9)"
   ]
  },
  {
   "cell_type": "code",
   "execution_count": 5,
   "id": "93f17494",
   "metadata": {},
   "outputs": [],
   "source": [
    "def print_info(**kwargs):\n",
    "    print(kwargs,type(kwargs))"
   ]
  },
  {
   "cell_type": "code",
   "execution_count": 6,
   "id": "c4ff891c",
   "metadata": {},
   "outputs": [
    {
     "name": "stdout",
     "output_type": "stream",
     "text": [
      "{'nome': 'caio', 'sobrenome': 'ricarte'} <class 'dict'>\n"
     ]
    }
   ],
   "source": [
    "print_info(nome='caio',sobrenome='ricarte')"
   ]
  },
  {
   "cell_type": "code",
   "execution_count": null,
   "id": "870aa5c6",
   "metadata": {},
   "outputs": [],
   "source": []
  }
 ],
 "metadata": {
  "kernelspec": {
   "display_name": "Python 3 (ipykernel)",
   "language": "python",
   "name": "python3"
  },
  "language_info": {
   "codemirror_mode": {
    "name": "ipython",
    "version": 3
   },
   "file_extension": ".py",
   "mimetype": "text/x-python",
   "name": "python",
   "nbconvert_exporter": "python",
   "pygments_lexer": "ipython3",
   "version": "3.10.7"
  }
 },
 "nbformat": 4,
 "nbformat_minor": 5
}
